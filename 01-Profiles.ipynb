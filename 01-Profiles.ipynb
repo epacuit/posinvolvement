{
 "cells": [
  {
   "cell_type": "markdown",
   "metadata": {},
   "source": [
    "# Profiles"
   ]
  },
  {
   "cell_type": "markdown",
   "metadata": {},
   "source": [
    "Let $X$ be a set of alternatives, or candidates,  and $V$ a set of voters.   \n",
    "\n",
    "We consider elections in which each voters submits a ranking of all the candidates.   In this paper, we assume that a ballot is a strict linear order. For a set $X$, let $\\mathcal{L}(X)$ be the set of all strict linear orders on $X$. \n",
    "\n",
    "A **profile** for $(V, X)$ is a function $\\mathbf{P}: V\\to \\mathcal{L}(X)$.   We write $V(\\mathbf{P})$ for the set $V$ of voters in the profile $\\mathbf{P}$ and $X(\\mathbf{P})$ for set $X$ of candidates in $\\mathbf{P}$.  We call $\\mathbf{P}(i)$ voter $i$'s **ballot** and write \"$a\\mathbf{P}_ib$\" for $(a,b)\\in \\mathbf{P}(i)$.\n",
    "\n",
    "Profiles are defined using the Profile class defined in `voting/profiles.py`.  This notebook describes the Profile class. "
   ]
  },
  {
   "cell_type": "code",
   "execution_count": 1,
   "metadata": {},
   "outputs": [],
   "source": [
    "# import the Profile class\n",
    "\n",
    "from voting.profiles import Profile\n",
    "\n",
    "# Note: this module requires: numpy, numba, networkx, and tabulate"
   ]
  },
  {
   "cell_type": "markdown",
   "metadata": {},
   "source": [
    "A Profile is defined from two parameters: \n",
    "\n",
    "1. A list of rankings, where each ranking is a tuple or list of the candidates\n",
    "2. The number of candidates"
   ]
  },
  {
   "cell_type": "code",
   "execution_count": 2,
   "metadata": {},
   "outputs": [
    {
     "name": "stdout",
     "output_type": "stream",
     "text": [
      "There are 3 voters in the profile.\n",
      "+---+---+---+\n",
      "| 1 | 1 | 1 |\n",
      "+---+---+---+\n",
      "| 0 | 2 | 1 |\n",
      "| 1 | 1 | 2 |\n",
      "| 2 | 0 | 0 |\n",
      "+---+---+---+\n"
     ]
    }
   ],
   "source": [
    "rankings = [\n",
    "    (0, 1, 2), \n",
    "    (2, 1, 0), \n",
    "    (1, 2, 0)\n",
    "]\n",
    "num_cands = 3\n",
    "prof = Profile(rankings, num_cands)\n",
    "print(f\"There are {prof.num_voters} voters in the profile.\")\n",
    "\n",
    "# display prof  - the header is the number of voters with each ranking\n",
    "prof.display()\n",
    "\n",
    "# When displaying a profile, we display the *anonymous* profile giving the number of \n",
    "# voters that have each ballot. "
   ]
  },
  {
   "cell_type": "markdown",
   "metadata": {},
   "source": [
    "A key assumption when instantiating the Profile class is that the names of the candidates are the initial segment of the natural numbers.   That is, the candidates are named $0,1,\\ldots, num\\_cands - 1$.  This means that the following code will  produce an error: \n"
   ]
  },
  {
   "cell_type": "code",
   "execution_count": 3,
   "metadata": {},
   "outputs": [
    {
     "ename": "ValueError",
     "evalue": "tuple.index(x): x not in tuple",
     "output_type": "error",
     "traceback": [
      "\u001b[0;31m---------------------------------------------------------------------------\u001b[0m",
      "\u001b[0;31mValueError\u001b[0m                                Traceback (most recent call last)",
      "\u001b[0;32m<ipython-input-3-87a66225b068>\u001b[0m in \u001b[0;36m<module>\u001b[0;34m\u001b[0m\n\u001b[1;32m      2\u001b[0m \u001b[0mrankings\u001b[0m \u001b[0;34m=\u001b[0m \u001b[0;34m[\u001b[0m\u001b[0;34m(\u001b[0m\u001b[0;36m3\u001b[0m\u001b[0;34m,\u001b[0m\u001b[0;36m1\u001b[0m\u001b[0;34m,\u001b[0m\u001b[0;36m2\u001b[0m\u001b[0;34m)\u001b[0m\u001b[0;34m,\u001b[0m \u001b[0;34m(\u001b[0m\u001b[0;36m2\u001b[0m\u001b[0;34m,\u001b[0m\u001b[0;36m1\u001b[0m\u001b[0;34m,\u001b[0m\u001b[0;36m3\u001b[0m\u001b[0;34m)\u001b[0m\u001b[0;34m,\u001b[0m \u001b[0;34m(\u001b[0m\u001b[0;36m1\u001b[0m\u001b[0;34m,\u001b[0m\u001b[0;36m2\u001b[0m\u001b[0;34m,\u001b[0m\u001b[0;36m3\u001b[0m\u001b[0;34m)\u001b[0m\u001b[0;34m]\u001b[0m\u001b[0;34m\u001b[0m\u001b[0;34m\u001b[0m\u001b[0m\n\u001b[1;32m      3\u001b[0m \u001b[0mnum_cands\u001b[0m \u001b[0;34m=\u001b[0m \u001b[0;36m3\u001b[0m\u001b[0;34m\u001b[0m\u001b[0;34m\u001b[0m\u001b[0m\n\u001b[0;32m----> 4\u001b[0;31m \u001b[0mprof\u001b[0m \u001b[0;34m=\u001b[0m \u001b[0mProfile\u001b[0m\u001b[0;34m(\u001b[0m\u001b[0mrankings\u001b[0m\u001b[0;34m,\u001b[0m \u001b[0mnum_cands\u001b[0m\u001b[0;34m)\u001b[0m\u001b[0;34m\u001b[0m\u001b[0;34m\u001b[0m\u001b[0m\n\u001b[0m",
      "\u001b[0;32m~/Dropbox/code/voting-scripts/involvement/voting/profiles.py\u001b[0m in \u001b[0;36m__init__\u001b[0;34m(self, rankings, num_cands, rcounts, cmap)\u001b[0m\n\u001b[1;32m    181\u001b[0m \u001b[0;34m\u001b[0m\u001b[0m\n\u001b[1;32m    182\u001b[0m         \u001b[0;31m# for each voter, the rankings of each candidate\u001b[0m\u001b[0;34m\u001b[0m\u001b[0;34m\u001b[0m\u001b[0;34m\u001b[0m\u001b[0m\n\u001b[0;32m--> 183\u001b[0;31m         \u001b[0mself\u001b[0m\u001b[0;34m.\u001b[0m\u001b[0m_ranks\u001b[0m \u001b[0;34m=\u001b[0m \u001b[0mnp\u001b[0m\u001b[0;34m.\u001b[0m\u001b[0marray\u001b[0m\u001b[0;34m(\u001b[0m\u001b[0;34m[\u001b[0m\u001b[0;34m[\u001b[0m\u001b[0m_r\u001b[0m\u001b[0;34m.\u001b[0m\u001b[0mindex\u001b[0m\u001b[0;34m(\u001b[0m\u001b[0mc\u001b[0m\u001b[0;34m)\u001b[0m \u001b[0;34m+\u001b[0m \u001b[0;36m1\u001b[0m \u001b[0;32mfor\u001b[0m \u001b[0mc\u001b[0m \u001b[0;32min\u001b[0m \u001b[0mself\u001b[0m\u001b[0;34m.\u001b[0m\u001b[0mcandidates\u001b[0m\u001b[0;34m]\u001b[0m \u001b[0;32mfor\u001b[0m  \u001b[0m_r\u001b[0m \u001b[0;32min\u001b[0m \u001b[0mrankings\u001b[0m\u001b[0;34m]\u001b[0m\u001b[0;34m)\u001b[0m\u001b[0;34m\u001b[0m\u001b[0;34m\u001b[0m\u001b[0m\n\u001b[0m\u001b[1;32m    184\u001b[0m \u001b[0;34m\u001b[0m\u001b[0m\n\u001b[1;32m    185\u001b[0m         \u001b[0;31m# 2d array where the c,d entery is the support of c over d\u001b[0m\u001b[0;34m\u001b[0m\u001b[0;34m\u001b[0m\u001b[0;34m\u001b[0m\u001b[0m\n",
      "\u001b[0;32m~/Dropbox/code/voting-scripts/involvement/voting/profiles.py\u001b[0m in \u001b[0;36m<listcomp>\u001b[0;34m(.0)\u001b[0m\n\u001b[1;32m    181\u001b[0m \u001b[0;34m\u001b[0m\u001b[0m\n\u001b[1;32m    182\u001b[0m         \u001b[0;31m# for each voter, the rankings of each candidate\u001b[0m\u001b[0;34m\u001b[0m\u001b[0;34m\u001b[0m\u001b[0;34m\u001b[0m\u001b[0m\n\u001b[0;32m--> 183\u001b[0;31m         \u001b[0mself\u001b[0m\u001b[0;34m.\u001b[0m\u001b[0m_ranks\u001b[0m \u001b[0;34m=\u001b[0m \u001b[0mnp\u001b[0m\u001b[0;34m.\u001b[0m\u001b[0marray\u001b[0m\u001b[0;34m(\u001b[0m\u001b[0;34m[\u001b[0m\u001b[0;34m[\u001b[0m\u001b[0m_r\u001b[0m\u001b[0;34m.\u001b[0m\u001b[0mindex\u001b[0m\u001b[0;34m(\u001b[0m\u001b[0mc\u001b[0m\u001b[0;34m)\u001b[0m \u001b[0;34m+\u001b[0m \u001b[0;36m1\u001b[0m \u001b[0;32mfor\u001b[0m \u001b[0mc\u001b[0m \u001b[0;32min\u001b[0m \u001b[0mself\u001b[0m\u001b[0;34m.\u001b[0m\u001b[0mcandidates\u001b[0m\u001b[0;34m]\u001b[0m \u001b[0;32mfor\u001b[0m  \u001b[0m_r\u001b[0m \u001b[0;32min\u001b[0m \u001b[0mrankings\u001b[0m\u001b[0;34m]\u001b[0m\u001b[0;34m)\u001b[0m\u001b[0;34m\u001b[0m\u001b[0;34m\u001b[0m\u001b[0m\n\u001b[0m\u001b[1;32m    184\u001b[0m \u001b[0;34m\u001b[0m\u001b[0m\n\u001b[1;32m    185\u001b[0m         \u001b[0;31m# 2d array where the c,d entery is the support of c over d\u001b[0m\u001b[0;34m\u001b[0m\u001b[0;34m\u001b[0m\u001b[0;34m\u001b[0m\u001b[0m\n",
      "\u001b[0;32m~/Dropbox/code/voting-scripts/involvement/voting/profiles.py\u001b[0m in \u001b[0;36m<listcomp>\u001b[0;34m(.0)\u001b[0m\n\u001b[1;32m    181\u001b[0m \u001b[0;34m\u001b[0m\u001b[0m\n\u001b[1;32m    182\u001b[0m         \u001b[0;31m# for each voter, the rankings of each candidate\u001b[0m\u001b[0;34m\u001b[0m\u001b[0;34m\u001b[0m\u001b[0;34m\u001b[0m\u001b[0m\n\u001b[0;32m--> 183\u001b[0;31m         \u001b[0mself\u001b[0m\u001b[0;34m.\u001b[0m\u001b[0m_ranks\u001b[0m \u001b[0;34m=\u001b[0m \u001b[0mnp\u001b[0m\u001b[0;34m.\u001b[0m\u001b[0marray\u001b[0m\u001b[0;34m(\u001b[0m\u001b[0;34m[\u001b[0m\u001b[0;34m[\u001b[0m\u001b[0m_r\u001b[0m\u001b[0;34m.\u001b[0m\u001b[0mindex\u001b[0m\u001b[0;34m(\u001b[0m\u001b[0mc\u001b[0m\u001b[0;34m)\u001b[0m \u001b[0;34m+\u001b[0m \u001b[0;36m1\u001b[0m \u001b[0;32mfor\u001b[0m \u001b[0mc\u001b[0m \u001b[0;32min\u001b[0m \u001b[0mself\u001b[0m\u001b[0;34m.\u001b[0m\u001b[0mcandidates\u001b[0m\u001b[0;34m]\u001b[0m \u001b[0;32mfor\u001b[0m  \u001b[0m_r\u001b[0m \u001b[0;32min\u001b[0m \u001b[0mrankings\u001b[0m\u001b[0;34m]\u001b[0m\u001b[0;34m)\u001b[0m\u001b[0;34m\u001b[0m\u001b[0;34m\u001b[0m\u001b[0m\n\u001b[0m\u001b[1;32m    184\u001b[0m \u001b[0;34m\u001b[0m\u001b[0m\n\u001b[1;32m    185\u001b[0m         \u001b[0;31m# 2d array where the c,d entery is the support of c over d\u001b[0m\u001b[0;34m\u001b[0m\u001b[0;34m\u001b[0m\u001b[0;34m\u001b[0m\u001b[0m\n",
      "\u001b[0;31mValueError\u001b[0m: tuple.index(x): x not in tuple"
     ]
    }
   ],
   "source": [
    "# produces an error\n",
    "rankings = [(3,1,2), (2,1,3), (1,2,3)]\n",
    "num_cands = 3\n",
    "prof = Profile(rankings, num_cands)\n"
   ]
  },
  {
   "cell_type": "markdown",
   "metadata": {},
   "source": [
    "There are two optional parameters when initiating a Profile:\n",
    "\n",
    "1. rcounts: an array specifying the number of voters that submit each ranking in the profile.\n",
    "2. cmap: a dictionary mapping candidates to candidate names"
   ]
  },
  {
   "cell_type": "code",
   "execution_count": null,
   "metadata": {},
   "outputs": [],
   "source": [
    "rankings = [\n",
    "    (0, 1, 2), \n",
    "    (2, 1, 0), \n",
    "    (1, 2, 0)\n",
    "]\n",
    "rcounts = [1, 2, 3] \n",
    "#1 voter with the ranking (0,1,2),\n",
    "#2 voters with the ranking (2,1,0) and \n",
    "#3 voters with the ranking (1,2,0)num_cands = 3\n",
    "prof2 = Profile(rankings, num_cands, rcounts=rcounts)\n",
    "print(f\"There are {prof2.num_voters} voters in the profile.\")\n",
    "\n",
    "# display prof2  - the header is the number of voters with each ranking\n",
    "prof2.display()"
   ]
  },
  {
   "cell_type": "code",
   "execution_count": null,
   "metadata": {},
   "outputs": [],
   "source": [
    "rankings = [\n",
    "    (0, 1, 2), \n",
    "    (2, 1, 0), \n",
    "    (1, 2, 0)\n",
    "]\n",
    "rcounts = [1, 2, 3] \n",
    "#1 voter with the ranking (0,1,2),\n",
    "#2 voters with the ranking (2,1,0) and \n",
    "#3 voters with the ranking (1,2,0)num_cands = 3\n",
    "cmap={0:\"a\", 1:\"b\", 2:\"c\"}\n",
    "prof3 = Profile(rankings, num_cands, rcounts=rcounts, cmap=cmap)\n",
    "\n",
    "# display prof2  - the header is the number of voters with each ranking\n",
    "# the candidate names are used in cmap\n",
    "prof3.display()"
   ]
  },
  {
   "cell_type": "markdown",
   "metadata": {},
   "source": [
    "### Profile Methods\n",
    "\n",
    "\n",
    "There are a number of useful methods associated with a Profile.  Suppose that $\\mathbf{P}$ is a profile and $a,b\\in X(\\mathbf{P})$.\n",
    "\n",
    "* The support for $a$ over $b$ is $|\\{i\\in V(\\mathbf{P})\\mid a\\mathrel{\\mathbf{P}_i}b\\}|$. \n",
    "* The **margin of $a$ over $b$ in $\\mathbf{P}$** is $Margin_\\mathbf{P}(a,b)=|\\{i\\in V(\\mathbf{P})\\mid a\\mathrel{\\mathbf{P}_i}b\\}| -|\\{i\\in V(\\mathbf{P})\\mid b\\mathrel{\\mathbf{P}_i} a\\}|.$\n",
    "* Candidate $a$ is **majority preferred** to $b$ when $Margin_\\mathbf{P}(a,b)> 0$.\n"
   ]
  },
  {
   "cell_type": "code",
   "execution_count": null,
   "metadata": {},
   "outputs": [],
   "source": [
    "rankings = [\n",
    "    (0, 1, 2, 3), \n",
    "    (2, 3, 1, 0), \n",
    "    (3, 1, 2, 0), \n",
    "    (1, 2, 0, 3), \n",
    "    (1, 3, 2, 0)\n",
    "]\n",
    "num_cands = 4\n",
    "prof = Profile(rankings, num_cands)\n",
    "\n",
    "prof.display()\n",
    "\n",
    "c1 = 2\n",
    "c2 = 3\n",
    "\n",
    "print(\"\")\n",
    "print(f\"The candidates are {list(prof.candidates)}\")\n",
    "print(f\"support of {c1} over {c2}: \", prof.support(c1,c2))\n",
    "print(f\"support of {c2} over {c1}: \", prof.support(c2, c1))\n",
    "print(f\"Margin({c1},{c2}) =  \", prof.margin(c1,c2))\n",
    "print(f\"Margin({c2},{c1}) =  \", prof.margin(c2,c1))\n",
    "print(f\"{c1} is majority preferred to {c2} is \", prof.majority_prefers(c1,c2))\n",
    "print(f\"{c2} is majority preferred to {c1} is \", prof.majority_prefers(c2,c1))\n",
    "print(f\"The number of voters that rank {c1} in 1st place is \", prof.num_rank(c1, 1))\n",
    "print(f\"The number of voters that rank {c1} in 2nd place is \", prof.num_rank(c1, 2))\n",
    "print(f\"The size of a strict majority of voters is \", prof.strict_maj_size())\n"
   ]
  },
  {
   "cell_type": "markdown",
   "metadata": {},
   "source": [
    "In addition, there are methods for each of the following: \n",
    "\n",
    "* Condorcet winner: a candidate that is majority preferred to every other candidate (returns None if the Condorcet winner does not exist)\n",
    "* weak Condorcet winner: a list of candidates that are not majority preferred by any other candidate (returns None if no such candidate exists) \n",
    "* Condorcet loser: a candidate that is majority dispreferred by every other candidate (returns None if the Condorcet loser does not exist)\n",
    "* Plurality scores: a dictionary associating with each candidate its plurality score\n",
    "* Borda scores: a dictionary associating with each candidate its plurality score"
   ]
  },
  {
   "cell_type": "code",
   "execution_count": 4,
   "metadata": {},
   "outputs": [
    {
     "name": "stdout",
     "output_type": "stream",
     "text": [
      "+---+---+---+---+---+---+---+---+---+---+---+---+---+---+---+---+---+---+---+---+---+---+---+---+---+---+---+---+---+---+---+---+---+---+---+---+\n",
      "| 6 | 6 | 3 | 3 | 3 | 3 | 4 | 4 | 2 | 2 | 1 | 1 | 5 | 5 | 6 | 6 | 6 | 6 | 6 | 6 | 2 | 2 | 4 | 4 | 5 | 5 | 1 | 1 | 6 | 6 | 6 | 6 | 0 | 0 | 6 | 6 |\n",
      "+---+---+---+---+---+---+---+---+---+---+---+---+---+---+---+---+---+---+---+---+---+---+---+---+---+---+---+---+---+---+---+---+---+---+---+---+\n",
      "| a | a | c | c | a | a | d | d | a | a | a | a | b | b | b | b | b | b | c | c | b | b | c | c | d | d | c | c | d | d | b | b | d | d | d | d |\n",
      "| b | b | a | a | c | c | a | a | d | d | b | b | a | a | c | c | d | d | a | a | c | c | b | b | c | c | d | d | a | a | d | d | b | b | c | c |\n",
      "| c | d | b | d | b | d | b | c | b | c | c | d | c | d | a | d | a | c | b | d | a | d | a | d | a | b | a | b | b | c | a | c | a | c | a | b |\n",
      "| d | c | d | b | d | b | c | b | c | b | d | c | d | c | d | a | c | a | d | b | d | a | d | a | b | a | b | a | c | b | c | a | c | a | b | a |\n",
      "+---+---+---+---+---+---+---+---+---+---+---+---+---+---+---+---+---+---+---+---+---+---+---+---+---+---+---+---+---+---+---+---+---+---+---+---+\n"
     ]
    },
    {
     "data": {
      "image/png": "[encoded data removed]",
      "text/plain": [
       "<Figure size 432x288 with 1 Axes>"
      ]
     },
     "metadata": {},
     "output_type": "display_data"
    }
   ],
   "source": [
    "a=0\n",
    "b=1\n",
    "c=2\n",
    "d=3\n",
    "rankings = [(a, b, c, d),\n",
    "(a, b, d, c),\n",
    "(c, a, b, d),\n",
    "(c, a, d, b),\n",
    "(a, c, b, d),\n",
    "(a, c, d, b),\n",
    "(d, a, b, c),\n",
    "(d, a, c, b),\n",
    "(a, d, b, c),\n",
    "(a, d, c, b),\n",
    "(a, b, c, d),\n",
    "(a, b, d, c),\n",
    "(b, a, c, d),\n",
    "(b, a, d, c),\n",
    "(b, c, a, d),\n",
    "(b, c, d, a),\n",
    "(b, d, a, c),\n",
    "(b, d, c, a),\n",
    "(c, a, b, d),\n",
    "(c, a, d, b),\n",
    "(b, c, a, d),\n",
    "(b, c, d, a),\n",
    "(c, b, a, d),\n",
    "(c, b, d, a),\n",
    "(d, c, a, b),\n",
    "(d, c, b, a),\n",
    "(c, d, a, b),\n",
    "(c, d, b, a),\n",
    "(d, a, b, c),\n",
    "(d, a, c, b),\n",
    "(b, d, a, c),\n",
    "(b, d, c, a),\n",
    "(d, b, a, c),\n",
    "(d, b, c, a),\n",
    "(d, c, a, b),\n",
    "(d, c, b, a)]\n",
    "\n",
    "num_cands = 4\n",
    "rcounts = [6, 6, 3, 3, 3, 3, 4, 4, 2, 2, 1, 1, 5, 5, 6, 6, 6, 6, 6, 6, 2, 2, 4, 4, 5, 5, 1, 1, 6, 6, 6, 6, 0, 0, 6, 6]\n",
    "\n",
    "cmap = {a:\"a\", b:\"b\", c:\"c\", d:\"d\"}\n",
    "prof = Profile(rankings, num_cands, rcounts=rcounts, cmap=cmap)\n",
    "\n",
    "prof.display()\n",
    "\n",
    "prof.display_margin_graph()"
   ]
  },
  {
   "cell_type": "code",
   "execution_count": 5,
   "metadata": {},
   "outputs": [
    {
     "name": "stdout",
     "output_type": "stream",
     "text": [
      "+---+---+---+---+---+---+---+---+---+\n",
      "| 6 | 6 | 0 | 2 | 4 | 6 | 6 | 4 | 2 |\n",
      "+---+---+---+---+---+---+---+---+---+\n",
      "| a | c | a | a | b | b | c | b | c |\n",
      "| b | a | c | b | a | c | a | c | b |\n",
      "| c | b | b | c | c | a | b | a | a |\n",
      "+---+---+---+---+---+---+---+---+---+\n"
     ]
    },
    {
     "data": {
      "image/png": "[encoded data removed]",
      "text/plain": [
       "<Figure size 432x288 with 1 Axes>"
      ]
     },
     "metadata": {},
     "output_type": "display_data"
    },
    {
     "data": {
      "text/plain": [
       "17"
      ]
     },
     "execution_count": 5,
     "metadata": {},
     "output_type": "execute_result"
    }
   ],
   "source": [
    "a=0\n",
    "b=1\n",
    "c=2\n",
    "rankings = [\n",
    "    (a, b, c), \n",
    "    (c, a, b), \n",
    "    (a, c, b), \n",
    "    (a, b, c), \n",
    "    (b, a, c), \n",
    "    (b, c, a), \n",
    "    (c, a, b), \n",
    "    (b, c, a), \n",
    "    (c, b, a)\n",
    "]\n",
    "\n",
    "num_cands = 3\n",
    "rcounts = [6, 6, 0, 2, 4, 6, 6, 4, 2]\n",
    "\n",
    "cmap = {a:\"a\", b:\"b\", c:\"c\"}\n",
    "prof = Profile(rankings, num_cands, rcounts=rcounts, cmap=cmap)\n",
    "\n",
    "prof.display()\n",
    "\n",
    "prof.display_margin_graph()\n",
    "\n",
    "19\n",
    "\n",
    "17"
   ]
  },
  {
   "cell_type": "code",
   "execution_count": 6,
   "metadata": {},
   "outputs": [
    {
     "name": "stdout",
     "output_type": "stream",
     "text": [
      "+----+---+---+---+----+----+----+---+---+\n",
      "| 12 | 6 | 6 | 2 | 10 | 12 | 12 | 4 | 8 |\n",
      "+----+---+---+---+----+----+----+---+---+\n",
      "| a  | c | a | a | b  | b  | c  | b | c |\n",
      "| b  | a | c | b | a  | c  | a  | c | b |\n",
      "| c  | b | b | c | c  | a  | b  | a | a |\n",
      "+----+---+---+---+----+----+----+---+---+\n"
     ]
    },
    {
     "data": {
      "image/png": "[encoded data removed]",
      "text/plain": [
       "<Figure size 432x288 with 1 Axes>"
      ]
     },
     "metadata": {},
     "output_type": "display_data"
    }
   ],
   "source": [
    "a=0\n",
    "b=1\n",
    "c=2\n",
    "rankings = [\n",
    "    (a, b, c), \n",
    "    (c, a, b), \n",
    "    (a, c, b), \n",
    "    (a, b, c), \n",
    "    (b, a, c), \n",
    "    (b, c, a), \n",
    "    (c, a, b), \n",
    "    (b, c, a), \n",
    "    (c, b, a)\n",
    "]\n",
    "\n",
    "num_cands = 3\n",
    "rcounts = [12, 6, 6, 2, 10, 12, 12, 4, 8]\n",
    "\n",
    "cmap = {a:\"a\", b:\"b\", c:\"c\"}\n",
    "prof = Profile(rankings, num_cands, rcounts=rcounts, cmap=cmap)\n",
    "\n",
    "prof.display()\n",
    "\n",
    "prof.display_margin_graph()"
   ]
  },
  {
   "cell_type": "code",
   "execution_count": 7,
   "metadata": {},
   "outputs": [
    {
     "name": "stdout",
     "output_type": "stream",
     "text": [
      "+---+---+---+---+---+\n",
      "| 1 | 1 | 1 | 1 | 1 |\n",
      "+---+---+---+---+---+\n",
      "| 0 | 2 | 3 | 1 | 1 |\n",
      "| 1 | 3 | 1 | 2 | 3 |\n",
      "| 2 | 1 | 2 | 0 | 2 |\n",
      "| 3 | 0 | 0 | 3 | 0 |\n",
      "+---+---+---+---+---+\n",
      "\n",
      "The plurality scores are  {0: 1, 1: 2, 2: 1, 3: 1}\n",
      "The Borda scores are  {0: 4, 1: 11, 2: 8, 3: 7}\n",
      "The Condorcet winner is  1\n",
      "The weak Condorcet winner is  [1]\n",
      "The Condorcet loser is  0\n"
     ]
    }
   ],
   "source": [
    "rankings = [\n",
    "    (0, 1, 2, 3), \n",
    "    (2, 3, 1, 0), \n",
    "    (3, 1, 2, 0), \n",
    "    (1, 2, 0, 3), \n",
    "    (1, 3, 2, 0)\n",
    "]\n",
    "num_cands = 4\n",
    "prof = Profile(rankings, num_cands)\n",
    "\n",
    "prof.display()\n",
    "print(\"\")\n",
    "print(f\"The plurality scores are \", prof.plurality_scores())\n",
    "print(f\"The Borda scores are \", prof.borda_scores())\n",
    "print(f\"The Condorcet winner is \", prof.condorcet_winner())\n",
    "print(f\"The weak Condorcet winner is \", prof.weak_condorcet_winner())\n",
    "print(f\"The Condorcet loser is \", prof.condorcet_loser())\n"
   ]
  },
  {
   "cell_type": "markdown",
   "metadata": {},
   "source": [
    "###  Margin Graph\n",
    "\n",
    "The **margin graph** of a profile $\\mathbf{P}$ is a weighted directed graph where the nodes are the candidates and there is an edge from $a$ to $b$ when $Margin_{\\mathbf{P}}(a,b)>0,$ weighted by $Margin_{\\mathbf{P}}(a,b)$.   \n",
    "\n",
    "A margin graph for a Profile object is a networkx object. "
   ]
  },
  {
   "cell_type": "code",
   "execution_count": 8,
   "metadata": {},
   "outputs": [
    {
     "name": "stdout",
     "output_type": "stream",
     "text": [
      "<class 'networkx.classes.digraph.DiGraph'>\n",
      "The nodes are the candidates  [0, 1, 2, 3]\n",
      "The edges are the majority relations  [(1, 0), (1, 2), (1, 3), (2, 0), (2, 3), (3, 0)]\n",
      "The weights are the margins \n",
      " Edge (1, 0): {'weight': 3}\n",
      " Edge (1, 2): {'weight': 3}\n",
      " Edge (1, 3): {'weight': 1}\n",
      " Edge (2, 0): {'weight': 3}\n",
      " Edge (2, 3): {'weight': 1}\n",
      " Edge (3, 0): {'weight': 1}\n"
     ]
    },
    {
     "data": {
      "image/png": "[encoded data removed]",
      "text/plain": [
       "<Figure size 432x288 with 1 Axes>"
      ]
     },
     "metadata": {},
     "output_type": "display_data"
    }
   ],
   "source": [
    "\n",
    "mg = prof.margin_graph()\n",
    "# mg is a networkx object\n",
    "print(type(mg))\n",
    "print(\"The nodes are the candidates \", mg.nodes)\n",
    "print(\"The edges are the majority relations \", mg.edges)\n",
    "print(\"The weights are the margins \\n\", \"\\n \".join([f\"Edge {e}: {mg.get_edge_data(*e)}\" for e in mg.edges]))\n",
    "\n",
    "# display the margin graph\n",
    "prof.display_margin_graph()\n"
   ]
  },
  {
   "cell_type": "markdown",
   "metadata": {},
   "source": [
    "## Removing Candidates\n",
    "\n",
    "We will need to remove candidates from a profile. \n",
    "\n",
    "For a profile $\\mathbf{P}$ and $Y\\subsetneq X(\\mathbf{P})$,  $\\mathbf{P}_{-Y}$ is the profile with $V(\\mathbf{P}_{-Y})=V(\\mathbf{P})$ and $X(\\mathbf{P}_{-Y})=X(\\mathbf{P})\\setminus Y$ such that for all $i\\in V(\\mathbf{P})$, $\\mathbf{P}_{-Y}(i)=\\mathbf{P}(i)\\cap (X(\\mathbf{P})\\setminus Y)^2.$  We write $\\mathbf{P}_{-b}$ for $\\mathbf{P}_{-\\{b\\}}$. \n",
    "\n",
    "Since we assume that candidates are names $0, \\ldots, num\\_cands - 1$, when removing a candidate, we need a way of mapping the candidate names in the new profile to the candidate names in the old profile. The Profile class method `remove_candidates` returns a restricted profile and a dictionary mapping candidates in the updated profile to the candidates in the original profile. "
   ]
  },
  {
   "cell_type": "code",
   "execution_count": 9,
   "metadata": {},
   "outputs": [
    {
     "name": "stdout",
     "output_type": "stream",
     "text": [
      "Original Profile\n",
      " +---+---+---+---+---+\n",
      "| 1 | 1 | 1 | 1 | 1 |\n",
      "+---+---+---+---+---+\n",
      "| 0 | 2 | 3 | 1 | 1 |\n",
      "| 1 | 3 | 1 | 2 | 3 |\n",
      "| 2 | 1 | 2 | 0 | 2 |\n",
      "| 3 | 0 | 0 | 3 | 0 |\n",
      "+---+---+---+---+---+\n",
      "New profile after removing [1, 3]\n",
      "\n",
      "+---+---+---+---+---+\n",
      "| 1 | 1 | 1 | 1 | 1 |\n",
      "+---+---+---+---+---+\n",
      "| 0 | 1 | 1 | 1 | 1 |\n",
      "| 1 | 0 | 0 | 0 | 0 |\n",
      "+---+---+---+---+---+\n",
      "\n",
      "Use the original profile names \n",
      "The candidate map: {0: 0, 1: 2}\n",
      "\n",
      "+---+---+---+---+---+\n",
      "| 1 | 1 | 1 | 1 | 1 |\n",
      "+---+---+---+---+---+\n",
      "| 0 | 2 | 2 | 2 | 2 |\n",
      "| 2 | 0 | 0 | 0 | 0 |\n",
      "+---+---+---+---+---+\n"
     ]
    }
   ],
   "source": [
    "rankings = [\n",
    "    (0, 1, 2, 3), \n",
    "    (2, 3, 1, 0), \n",
    "    (3, 1, 2, 0), \n",
    "    (1, 2, 0, 3), \n",
    "    (1, 3, 2, 0)\n",
    "]\n",
    "num_cands = 4\n",
    "prof = Profile(rankings, num_cands)\n",
    "\n",
    "cands_to_remove = [1,3]\n",
    "prof_minus, orig_cand_names = prof.remove_candidates(cands_to_remove)\n",
    "\n",
    "print(\"Original Profile\\n\", prof)\n",
    "\n",
    "print(f\"New profile after removing {cands_to_remove}\\n\")\n",
    "\n",
    "prof_minus.display() # uses the new candidate names\n",
    "\n",
    "print(\"\\nUse the original profile names \")\n",
    "print(f\"The candidate map: {orig_cand_names}\\n\")\n",
    "prof_minus.display(cmap=orig_cand_names)\n"
   ]
  },
  {
   "cell_type": "code",
   "execution_count": 10,
   "metadata": {},
   "outputs": [
    {
     "name": "stdout",
     "output_type": "stream",
     "text": [
      "Original Profile\n",
      " +---+---+---+---+---+\n",
      "| 5 | 3 | 2 | 4 | 3 |\n",
      "+---+---+---+---+---+\n",
      "| 0 | 2 | 3 | 1 | 1 |\n",
      "| 1 | 3 | 1 | 2 | 3 |\n",
      "| 2 | 1 | 2 | 0 | 2 |\n",
      "| 3 | 0 | 0 | 3 | 0 |\n",
      "+---+---+---+---+---+\n",
      "New profile after removing [0, 2]\n",
      "\n",
      "+---+---+---+---+---+\n",
      "| 5 | 3 | 2 | 4 | 3 |\n",
      "+---+---+---+---+---+\n",
      "| 0 | 1 | 1 | 0 | 0 |\n",
      "| 1 | 0 | 0 | 1 | 1 |\n",
      "+---+---+---+---+---+\n",
      "\n",
      "Use the original profile names \n",
      "The candidate map: {0: 1, 1: 3}\n",
      "\n",
      "+---+---+---+---+---+\n",
      "| 5 | 3 | 2 | 4 | 3 |\n",
      "+---+---+---+---+---+\n",
      "| 1 | 3 | 3 | 1 | 1 |\n",
      "| 3 | 1 | 1 | 3 | 3 |\n",
      "+---+---+---+---+---+\n"
     ]
    }
   ],
   "source": [
    "# The same procedure is used when specifying rcounts\n",
    "\n",
    "rankings = [(0,1,2, 3), (2,3,1,0), (3,1,2,0), (1,2,0,3), (1,3,2,0)]\n",
    "num_cands = 4\n",
    "rcounts = [5,3,2,4, 3]\n",
    "\n",
    "prof = Profile(rankings, num_cands, rcounts=rcounts)\n",
    "\n",
    "cands_to_remove = [0,2]\n",
    "prof_minus, orig_cand_names = prof.remove_candidates(cands_to_remove)\n",
    "\n",
    "print(\"Original Profile\\n\", prof)\n",
    "\n",
    "print(f\"New profile after removing {cands_to_remove}\\n\")\n",
    "\n",
    "prof_minus.display() # uses the new candidate names\n",
    "\n",
    "print(\"\\nUse the original profile names \")\n",
    "print(f\"The candidate map: {orig_cand_names}\\n\")\n",
    "prof_minus.display(cmap=orig_cand_names)\n"
   ]
  },
  {
   "cell_type": "markdown",
   "metadata": {},
   "source": [
    "# Generating Profiles\n",
    "\n",
    "To generate profiles, we use the [Preflib.org](https://preflib.org) tools available at [https://github.com/PrefLib/PrefLib-Tools](https://github.com/PrefLib/PrefLib-Tools).   \n",
    "\n",
    "We have included  the following probability models: \n",
    "\n",
    "1. IC:  Impartial Culture Model - generate a profile by sampling  from a uniform distribution over profiles with $n$ candidates and $m$ voters. \n",
    "\n",
    "2. IAC:  Impartial Anonymous Culture Model - generate a profile by sampling  from a uniform distribution over *anonymous* profiles with $n$ candidates and $m$ voters. \n",
    "\n",
    "3. URN: Urn model -  In the Polya-Eggenberger urn model, each voter in turn randomly draws a linear order from an urn. Initially the urn is $\\mathcal{L}(X)$. If a voter randomly chooses $L$ from the urn, we return $L$ to the urn plus $\\alpha\\in\\mathbb{N}$ copies of $L$. IC is the special case where $\\alpha=0$. The Impartial Anonymous Culture (IAC) is the special case where $\\alpha=1$. \n",
    "\n",
    "4. MALLOWS, MALLOWS_2REFS: Mallows Model - In the Mallow's model, given a reference ranking $L_0\\in\\mathcal{L}(X)$ and $\\phi\\in (0,1]$, the probability that a voter's ballot is $L\\in\\mathcal{L}(X)$ is $Pr_{L_0}(L)=\\phi^{\\tau(L,L_0)}/C$ where $\\tau(L,L_0)= {{|X|}\\choose{2}} - |L\\cap L_0|$, the Kendell-tau distance of $L$ to $L_0$, and $C$ is a normalization constant.   IC is the special case where $\\alpha=1$.  We also considered two reference rankings, $L_0$ and its converse $L_0^{-1}$ (e.g., $L_0$ ranks candidates from more liberal to more conservative, and $L_0^{-1}$ vice versa), in which case the probability that a voter's ballot is $L$ is $\\frac{1}{2} Pr_{L_0}(L)+\\frac{1}{2}Pr_{L_0^{-1}}(L)$. \n",
    "\n",
    "5. SinglePeaked - a profile $\\mathbf{P}$ is *single peaked* if there exists a strict linear order $<$ of $X(\\mathbf{P})$ such that for every $i\\in V(\\mathbf{P})$ and $x,y\\in X(\\mathbf{P})$, $x<y < max(\\mathbf{P}_i)$ implies  $y\\mathbf{P}_ix$, and $max(\\mathbf{P}_i)< x<y$ implies $x\\mathbf{P}_iy$. The probability model we call *single peaked* assigns zero probability to any profile that is not single peaked and equal probability to any two single-peaked profiles. \n",
    "\n",
    "In addition to the probability models from preflib, we have implemented the spatial model described in Section 2.1 of Merrill and Grofman 1999: \n",
    "\n",
    "6. SPATIAL: Spatial Model -  We used the so-called proximity spatial model where voters and candidates are placed in the plane according to a multivariate normal distribution with mean $\\begin{bmatrix} 0 \\\\ 0  \\end{bmatrix}$ and covariance matrix  $\\begin{bmatrix} 1 & 0 \\\\ 0 & 1  \\end{bmatrix}$.  The voters rank the candidates accodring to  their Euclidean distance from the voter.\n",
    "\n"
   ]
  },
  {
   "cell_type": "code",
   "execution_count": 11,
   "metadata": {},
   "outputs": [],
   "source": [
    "from voting.generate_profiles import generate_profile # function to generate a profile\n",
    "\n",
    "# dictionary where keys are the names of the probability models and \n",
    "# values is a dictionary with two keys: \"func\" giving the function to generate a profile\n",
    "# and \"param\" giving the default parameter for the profile\n",
    "\n",
    "from voting.generate_profiles import prob_models "
   ]
  },
  {
   "cell_type": "code",
   "execution_count": 12,
   "metadata": {
    "scrolled": false
   },
   "outputs": [
    {
     "name": "stdout",
     "output_type": "stream",
     "text": [
      "Profile generated using the IC probability model\n",
      "+---+---+---+\n",
      "| 2 | 2 | 1 |\n",
      "+---+---+---+\n",
      "| 2 | 0 | 2 |\n",
      "| 0 | 2 | 1 |\n",
      "| 1 | 1 | 0 |\n",
      "+---+---+---+\n",
      "\n",
      "\n",
      "Profile generated using the IAC probability model\n",
      "+---+---+---+---+\n",
      "| 1 | 2 | 1 | 1 |\n",
      "+---+---+---+---+\n",
      "| 0 | 2 | 0 | 2 |\n",
      "| 2 | 1 | 1 | 0 |\n",
      "| 1 | 0 | 2 | 1 |\n",
      "+---+---+---+---+\n",
      "\n",
      "\n",
      "Profile generated using the MALLOWS probability model\n",
      "+---+---+---+\n",
      "| 2 | 2 | 1 |\n",
      "+---+---+---+\n",
      "| 2 | 0 | 1 |\n",
      "| 1 | 2 | 2 |\n",
      "| 0 | 1 | 0 |\n",
      "+---+---+---+\n",
      "\n",
      "\n",
      "Profile generated using the MALLOWS_2REF probability model\n",
      "+---+---+---+---+\n",
      "| 1 | 2 | 1 | 1 |\n",
      "+---+---+---+---+\n",
      "| 0 | 1 | 0 | 2 |\n",
      "| 1 | 2 | 2 | 1 |\n",
      "| 2 | 0 | 1 | 0 |\n",
      "+---+---+---+---+\n",
      "\n",
      "\n",
      "Profile generated using the URN probability model\n",
      "+---+\n",
      "| 5 |\n",
      "+---+\n",
      "| 1 |\n",
      "| 0 |\n",
      "| 2 |\n",
      "+---+\n",
      "\n",
      "\n",
      "Profile generated using the SinglePeaked probability model\n",
      "+---+---+---+\n",
      "| 1 | 3 | 1 |\n",
      "+---+---+---+\n",
      "| 2 | 1 | 1 |\n",
      "| 1 | 2 | 0 |\n",
      "| 0 | 0 | 2 |\n",
      "+---+---+---+\n",
      "\n",
      "\n",
      "Profile generated using the SPATIAL probability model\n",
      "+---+---+---+\n",
      "| 3 | 1 | 1 |\n",
      "+---+---+---+\n",
      "| 0 | 1 | 2 |\n",
      "| 2 | 0 | 0 |\n",
      "| 1 | 2 | 1 |\n",
      "+---+---+---+\n",
      "\n",
      "\n"
     ]
    }
   ],
   "source": [
    "\n",
    "num_cands = 3\n",
    "num_voters = 5\n",
    "\n",
    "# generate and display a profile for each probability model\n",
    "# consult voting/generate_profiles.py for more details about \n",
    "# generating profiles\n",
    "for pm in prob_models.keys():\n",
    "    print(f\"Profile generated using the {pm} probability model\")\n",
    "    prof = generate_profile(num_cands, num_voters, probmod=pm)\n",
    "    prof.display()\n",
    "    print(\"\\n\")"
   ]
  },
  {
   "cell_type": "code",
   "execution_count": null,
   "metadata": {},
   "outputs": [],
   "source": []
  },
  {
   "cell_type": "code",
   "execution_count": null,
   "metadata": {},
   "outputs": [],
   "source": []
  },
  {
   "cell_type": "code",
   "execution_count": null,
   "metadata": {},
   "outputs": [],
   "source": []
  }
 ],
 "metadata": {
  "kernelspec": {
   "display_name": "Python 3",
   "language": "python",
   "name": "python3"
  },
  "language_info": {
   "codemirror_mode": {
    "name": "ipython",
    "version": 3
   },
   "file_extension": ".py",
   "mimetype": "text/x-python",
   "name": "python",
   "nbconvert_exporter": "python",
   "pygments_lexer": "ipython3",
   "version": "3.8.5"
  },
  "varInspector": {
   "cols": {
    "lenName": 16,
    "lenType": 16,
    "lenVar": 40
   },
   "kernels_config": {
    "python": {
     "delete_cmd_postfix": "",
     "delete_cmd_prefix": "del ",
     "library": "var_list.py",
     "varRefreshCmd": "print(var_dic_list())"
    },
    "r": {
     "delete_cmd_postfix": ") ",
     "delete_cmd_prefix": "rm(",
     "library": "var_list.r",
     "varRefreshCmd": "cat(var_dic_list()) "
    }
   },
   "types_to_exclude": [
    "module",
    "function",
    "builtin_function_or_method",
    "instance",
    "_Feature"
   ],
   "window_display": false
  }
 },
 "nbformat": 4,
 "nbformat_minor": 4
}
